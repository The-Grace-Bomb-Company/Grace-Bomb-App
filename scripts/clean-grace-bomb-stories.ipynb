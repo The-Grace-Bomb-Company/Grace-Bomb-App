{
 "cells": [
  {
   "cell_type": "code",
   "execution_count": 18,
   "metadata": {
    "dotnet_interactive": {
     "language": "pwsh"
    },
    "polyglot_notebook": {
     "kernelName": "pwsh"
    }
   },
   "outputs": [],
   "source": [
    "$raw = Import-Csv ./grace-bombs-raw.csv\n",
    "\n",
    "$cleaned = $raw | % {\n",
    "    $story = $_.'Tell us your Grace Bomb story'\n",
    "    if ([string]::IsNullOrWhiteSpace($story)) {\n",
    "        $story = $_.'share a little of what happened'\n",
    "    }\n",
    "\n",
    "    [pscustomobject]@{\n",
    "        Name = $_.'Name'\n",
    "        Email = $_.'Email'\n",
    "        ReferralType = $_.'Howd you hear about Grace Bomb'\n",
    "        ChurchOrRadioStation = $_.'Name of church or radio station'\n",
    "        Date = $_.'Submitted On'\n",
    "        Location = $_.'In what city and state'\n",
    "        Type = $_.'Did you receive or drop a Grace Bomb'\n",
    "        Story = $story\n",
    "    }\n",
    "}"
   ]
  },
  {
   "cell_type": "code",
   "execution_count": null,
   "metadata": {
    "dotnet_interactive": {
     "language": "pwsh"
    },
    "polyglot_notebook": {
     "kernelName": "pwsh"
    }
   },
   "outputs": [],
   "source": [
    "$locationCache = @{}"
   ]
  },
  {
   "cell_type": "code",
   "execution_count": 19,
   "metadata": {
    "dotnet_interactive": {
     "language": "pwsh"
    },
    "polyglot_notebook": {
     "kernelName": "pwsh"
    }
   },
   "outputs": [
    {
     "name": "stdout",
     "output_type": "stream",
     "text": [
      "Searching for eugene, oregon...\n",
      "... found \n",
      "Searching for petesa, american samoa...\n",
      "... nothing found\n",
      "Searching for turlock california...\n",
      "... found \n",
      "Searching for panama new york...\n",
      "... found \n",
      "Searching for ninety six sc...\n",
      "... found \n",
      "Searching for owosso michigan...\n",
      "... found \n",
      "Searching for milford mill, maryland...\n",
      "... found \n",
      "Searching for baltimore  maryland...\n",
      "... found \n",
      "Searching for ...\n",
      "... nothing found\n"
     ]
    }
   ],
   "source": [
    "$searchLocationUri = 'https://nominatim.openstreetmap.org/search?format=json&q='\n",
    "$InformationPreference = 'Continue'\n",
    "\n",
    "$locationSearches = $cleaned | Select-Object *, @{\n",
    "    l='LocationSearch'\n",
    "    e={\n",
    "        $location = $_.Location.ToLowerInvariant().Trim()\n",
    "\n",
    "        if ([string]::IsNullOrWhiteSpace($location)) {\n",
    "            [pscustomobject]@{\n",
    "                OriginalLocation = $location\n",
    "                FixedLocation = $null\n",
    "                Latitude = $null\n",
    "                Longitude = $null\n",
    "                PlaceId = $null\n",
    "            }\n",
    "        }\n",
    "\n",
    "        $response = $locationCache[$location]\n",
    "\n",
    "        if ($response -eq $null) {\n",
    "            Write-Information \"Searching for $location...\"\n",
    "            $response = irm ($searchLocationUri + $location)\n",
    "\n",
    "            if ($response -is [Array]) {\n",
    "                $response = $response[0]\n",
    "            }\n",
    "\n",
    "            if ($response.display_name -ne $null) {\n",
    "                $locationCache[$location] = $response\n",
    "                Write-Information \"... found ${$response.display_name}\"\n",
    "            } else {\n",
    "                Write-Information \"... nothing found\"\n",
    "            }\n",
    "        }\n",
    "\n",
    "        [pscustomobject]@{\n",
    "            OriginalLocation = $location\n",
    "            FixedLocation = $response.display_name\n",
    "            Latitude = $response.lat\n",
    "            Longitude = $response.lon\n",
    "            PlaceId = $response.place_id\n",
    "        }\n",
    "    }\n",
    "} | ? {$_.LocationSearch.FixedLocation -eq $null}"
   ]
  },
  {
   "cell_type": "code",
   "execution_count": 26,
   "metadata": {
    "dotnet_interactive": {
     "language": "pwsh"
    },
    "polyglot_notebook": {
     "kernelName": "pwsh"
    }
   },
   "outputs": [
    {
     "name": "stdout",
     "output_type": "stream",
     "text": [
      "\u001b[31;1mSelect-Object: \u001b[31;1mThe property cannot be processed because the property \"Name\" already exists.\u001b[0m\n",
      "\u001b[31;1mSelect-Object: \u001b[31;1mThe property cannot be processed because the property \"Email\" already exists.\u001b[0m\n",
      "\u001b[31;1mSelect-Object: \u001b[31;1mThe property cannot be processed because the property \"ReferralType\" already exists.\u001b[0m\n",
      "\u001b[31;1mSelect-Object: \u001b[31;1mThe property cannot be processed because the property \"ChurchOrRadioStation\" already exists.\u001b[0m\n",
      "\u001b[31;1mSelect-Object: \u001b[31;1mThe property cannot be processed because the property \"Date\" already exists.\u001b[0m\n",
      "\u001b[31;1mSelect-Object: \u001b[31;1mThe property cannot be processed because the property \"Location\" already exists.\u001b[0m\n",
      "\u001b[31;1mSelect-Object: \u001b[31;1mThe property cannot be processed because the property \"Type\" already exists.\u001b[0m\n",
      "\u001b[31;1mSelect-Object: \u001b[31;1mThe property cannot be processed because the property \"Story\" already exists.\u001b[0m\n",
      "\u001b[31;1mSelect-Object: \u001b[31;1mThe property cannot be processed because the property \"LocationSearch\" already exists.\u001b[0m\n",
      "\u001b[31;1mSelect-Object: \u001b[31;1mThe property cannot be processed because the property \"Name\" already exists.\u001b[0m\n",
      "\u001b[31;1mSelect-Object: \u001b[31;1mThe property cannot be processed because the property \"Email\" already exists.\u001b[0m\n",
      "\u001b[31;1mSelect-Object: \u001b[31;1mThe property cannot be processed because the property \"ReferralType\" already exists.\u001b[0m\n",
      "\u001b[31;1mSelect-Object: \u001b[31;1mThe property cannot be processed because the property \"ChurchOrRadioStation\" already exists.\u001b[0m\n",
      "\u001b[31;1mSelect-Object: \u001b[31;1mThe property cannot be processed because the property \"Date\" already exists.\u001b[0m\n",
      "\u001b[31;1mSelect-Object: \u001b[31;1mThe property cannot be processed because the property \"Location\" already exists.\u001b[0m\n",
      "\u001b[31;1mSelect-Object: \u001b[31;1mThe property cannot be processed because the property \"Type\" already exists.\u001b[0m\n",
      "\u001b[31;1mSelect-Object: \u001b[31;1mThe property cannot be processed because the property \"Story\" already exists.\u001b[0m\n",
      "\u001b[31;1mSelect-Object: \u001b[31;1mThe property cannot be processed because the property \"LocationSearch\" already exists.\u001b[0m\n"
     ]
    },
    {
     "ename": "Error",
     "evalue": "Command failed: SubmitCode: $locationSearches | ? {$_.LocationSearch.FixedLoca ...",
     "output_type": "error",
     "traceback": [
      "Command failed: SubmitCode: $locationSearches | ? {$_.LocationSearch.FixedLoca ..."
     ]
    }
   ],
   "source": [
    "$locationSearches | ? {$_.LocationSearch.FixedLocation -ne $null} | select * -expand LocationSearch | select Date, FixedLocation, Latitude, Longitude,Story | convertto-json | Set-Clipboard"
   ]
  }
 ],
 "metadata": {
  "kernelspec": {
   "display_name": ".NET (C#)",
   "language": "C#",
   "name": ".net-csharp"
  },
  "language_info": {
   "name": "polyglot-notebook"
  },
  "polyglot_notebook": {
   "kernelInfo": {
    "defaultKernelName": "csharp",
    "items": [
     {
      "aliases": [],
      "name": "csharp"
     },
     {
      "aliases": [],
      "languageName": "pwsh",
      "name": "pwsh"
     }
    ]
   }
  }
 },
 "nbformat": 4,
 "nbformat_minor": 2
}
